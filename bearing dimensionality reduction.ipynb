{
 "cells": [
  {
   "cell_type": "markdown",
   "metadata": {},
   "source": [
    "#  Dimensionality reduction and Visualization     "
   ]
  },
  {
   "cell_type": "code",
   "execution_count": 1,
   "metadata": {},
   "outputs": [],
   "source": [
    "import matplotlib.pyplot as plt\n",
    "import numpy as np\n",
    "import pandas as pd"
   ]
  },
  {
   "cell_type": "code",
   "execution_count": 2,
   "metadata": {},
   "outputs": [
    {
     "data": {
      "text/html": [
       "<div>\n",
       "<style scoped>\n",
       "    .dataframe tbody tr th:only-of-type {\n",
       "        vertical-align: middle;\n",
       "    }\n",
       "\n",
       "    .dataframe tbody tr th {\n",
       "        vertical-align: top;\n",
       "    }\n",
       "\n",
       "    .dataframe thead th {\n",
       "        text-align: right;\n",
       "    }\n",
       "</style>\n",
       "<table border=\"1\" class=\"dataframe\">\n",
       "  <thead>\n",
       "    <tr style=\"text-align: right;\">\n",
       "      <th></th>\n",
       "      <th>Max</th>\n",
       "      <th>Min</th>\n",
       "      <th>Mean</th>\n",
       "      <th>Std</th>\n",
       "      <th>RMS</th>\n",
       "      <th>Skewness</th>\n",
       "      <th>Kurtosis</th>\n",
       "      <th>Crest Factor</th>\n",
       "      <th>Form Factor</th>\n",
       "      <th>Fault</th>\n",
       "    </tr>\n",
       "  </thead>\n",
       "  <tbody>\n",
       "    <tr>\n",
       "      <th>0</th>\n",
       "      <td>0.422</td>\n",
       "      <td>-0.657</td>\n",
       "      <td>-0.117744</td>\n",
       "      <td>0.093095</td>\n",
       "      <td>0.150100</td>\n",
       "      <td>-0.033307</td>\n",
       "      <td>0.876667</td>\n",
       "      <td>2.811460</td>\n",
       "      <td>-1.274798</td>\n",
       "      <td>Normal</td>\n",
       "    </tr>\n",
       "    <tr>\n",
       "      <th>1</th>\n",
       "      <td>0.466</td>\n",
       "      <td>-0.605</td>\n",
       "      <td>-0.116695</td>\n",
       "      <td>0.091405</td>\n",
       "      <td>0.148230</td>\n",
       "      <td>0.022064</td>\n",
       "      <td>0.946745</td>\n",
       "      <td>3.143757</td>\n",
       "      <td>-1.270240</td>\n",
       "      <td>Normal</td>\n",
       "    </tr>\n",
       "    <tr>\n",
       "      <th>2</th>\n",
       "      <td>0.356</td>\n",
       "      <td>-0.713</td>\n",
       "      <td>-0.117174</td>\n",
       "      <td>0.094340</td>\n",
       "      <td>0.150430</td>\n",
       "      <td>-0.088984</td>\n",
       "      <td>0.858388</td>\n",
       "      <td>2.366546</td>\n",
       "      <td>-1.283821</td>\n",
       "      <td>Normal</td>\n",
       "    </tr>\n",
       "    <tr>\n",
       "      <th>3</th>\n",
       "      <td>0.500</td>\n",
       "      <td>-0.647</td>\n",
       "      <td>-0.117876</td>\n",
       "      <td>0.093033</td>\n",
       "      <td>0.150165</td>\n",
       "      <td>-0.036459</td>\n",
       "      <td>0.957214</td>\n",
       "      <td>3.329671</td>\n",
       "      <td>-1.273921</td>\n",
       "      <td>Normal</td>\n",
       "    </tr>\n",
       "    <tr>\n",
       "      <th>4</th>\n",
       "      <td>0.479</td>\n",
       "      <td>-0.659</td>\n",
       "      <td>-0.116594</td>\n",
       "      <td>0.093409</td>\n",
       "      <td>0.149395</td>\n",
       "      <td>-0.002756</td>\n",
       "      <td>1.290804</td>\n",
       "      <td>3.206260</td>\n",
       "      <td>-1.281329</td>\n",
       "      <td>Normal</td>\n",
       "    </tr>\n",
       "    <tr>\n",
       "      <th>...</th>\n",
       "      <td>...</td>\n",
       "      <td>...</td>\n",
       "      <td>...</td>\n",
       "      <td>...</td>\n",
       "      <td>...</td>\n",
       "      <td>...</td>\n",
       "      <td>...</td>\n",
       "      <td>...</td>\n",
       "      <td>...</td>\n",
       "      <td>...</td>\n",
       "    </tr>\n",
       "    <tr>\n",
       "      <th>2273</th>\n",
       "      <td>0.701</td>\n",
       "      <td>-0.764</td>\n",
       "      <td>-0.114628</td>\n",
       "      <td>0.131560</td>\n",
       "      <td>0.174490</td>\n",
       "      <td>0.134774</td>\n",
       "      <td>1.459441</td>\n",
       "      <td>4.017426</td>\n",
       "      <td>-1.522231</td>\n",
       "      <td>Roller Element</td>\n",
       "    </tr>\n",
       "    <tr>\n",
       "      <th>2274</th>\n",
       "      <td>0.571</td>\n",
       "      <td>-0.667</td>\n",
       "      <td>-0.114702</td>\n",
       "      <td>0.126378</td>\n",
       "      <td>0.170667</td>\n",
       "      <td>0.071571</td>\n",
       "      <td>1.195710</td>\n",
       "      <td>3.345699</td>\n",
       "      <td>-1.487915</td>\n",
       "      <td>Roller Element</td>\n",
       "    </tr>\n",
       "    <tr>\n",
       "      <th>2275</th>\n",
       "      <td>0.623</td>\n",
       "      <td>-0.708</td>\n",
       "      <td>-0.114239</td>\n",
       "      <td>0.126722</td>\n",
       "      <td>0.170611</td>\n",
       "      <td>0.100394</td>\n",
       "      <td>1.255684</td>\n",
       "      <td>3.651572</td>\n",
       "      <td>-1.493457</td>\n",
       "      <td>Roller Element</td>\n",
       "    </tr>\n",
       "    <tr>\n",
       "      <th>2276</th>\n",
       "      <td>0.752</td>\n",
       "      <td>-0.686</td>\n",
       "      <td>-0.114455</td>\n",
       "      <td>0.128396</td>\n",
       "      <td>0.172002</td>\n",
       "      <td>0.086076</td>\n",
       "      <td>1.189483</td>\n",
       "      <td>4.372047</td>\n",
       "      <td>-1.502786</td>\n",
       "      <td>Roller Element</td>\n",
       "    </tr>\n",
       "    <tr>\n",
       "      <th>2277</th>\n",
       "      <td>0.583</td>\n",
       "      <td>-0.737</td>\n",
       "      <td>-0.114645</td>\n",
       "      <td>0.123409</td>\n",
       "      <td>0.168441</td>\n",
       "      <td>0.106775</td>\n",
       "      <td>1.241986</td>\n",
       "      <td>3.461146</td>\n",
       "      <td>-1.469247</td>\n",
       "      <td>Roller Element</td>\n",
       "    </tr>\n",
       "  </tbody>\n",
       "</table>\n",
       "<p>2278 rows × 10 columns</p>\n",
       "</div>"
      ],
      "text/plain": [
       "        Max    Min      Mean       Std       RMS  Skewness  Kurtosis  \\\n",
       "0     0.422 -0.657 -0.117744  0.093095  0.150100 -0.033307  0.876667   \n",
       "1     0.466 -0.605 -0.116695  0.091405  0.148230  0.022064  0.946745   \n",
       "2     0.356 -0.713 -0.117174  0.094340  0.150430 -0.088984  0.858388   \n",
       "3     0.500 -0.647 -0.117876  0.093033  0.150165 -0.036459  0.957214   \n",
       "4     0.479 -0.659 -0.116594  0.093409  0.149395 -0.002756  1.290804   \n",
       "...     ...    ...       ...       ...       ...       ...       ...   \n",
       "2273  0.701 -0.764 -0.114628  0.131560  0.174490  0.134774  1.459441   \n",
       "2274  0.571 -0.667 -0.114702  0.126378  0.170667  0.071571  1.195710   \n",
       "2275  0.623 -0.708 -0.114239  0.126722  0.170611  0.100394  1.255684   \n",
       "2276  0.752 -0.686 -0.114455  0.128396  0.172002  0.086076  1.189483   \n",
       "2277  0.583 -0.737 -0.114645  0.123409  0.168441  0.106775  1.241986   \n",
       "\n",
       "      Crest Factor  Form Factor           Fault  \n",
       "0         2.811460    -1.274798          Normal  \n",
       "1         3.143757    -1.270240          Normal  \n",
       "2         2.366546    -1.283821          Normal  \n",
       "3         3.329671    -1.273921          Normal  \n",
       "4         3.206260    -1.281329          Normal  \n",
       "...            ...          ...             ...  \n",
       "2273      4.017426    -1.522231  Roller Element  \n",
       "2274      3.345699    -1.487915  Roller Element  \n",
       "2275      3.651572    -1.493457  Roller Element  \n",
       "2276      4.372047    -1.502786  Roller Element  \n",
       "2277      3.461146    -1.469247  Roller Element  \n",
       "\n",
       "[2278 rows x 10 columns]"
      ]
     },
     "execution_count": 2,
     "metadata": {},
     "output_type": "execute_result"
    }
   ],
   "source": [
    "df1=pd.read_csv('Normal_Bearing.csv')\n",
    "df2=pd.read_csv('outer_race_fault_test_2.csv')\n",
    "df3=pd.read_csv('outer_race_fault_test_3.csv')\n",
    "df4=pd.read_csv('inner_race_fault.csv')\n",
    "df5=pd.read_csv('roller_element_fault.csv')\n",
    "\n",
    "df = pd.concat([df1,df2,df3,df4,df5])\n",
    "df = df.reset_index(drop=True)\n",
    "df"
   ]
  },
  {
   "cell_type": "code",
   "execution_count": 3,
   "metadata": {},
   "outputs": [],
   "source": [
    "X = df.iloc[:,:-1]\n",
    "y = df.iloc[:,-1]"
   ]
  },
  {
   "cell_type": "markdown",
   "metadata": {},
   "source": [
    "# PCA with TWO Principal Components"
   ]
  },
  {
   "cell_type": "code",
   "execution_count": 4,
   "metadata": {},
   "outputs": [],
   "source": [
    "from sklearn.preprocessing import StandardScaler\n",
    "X = StandardScaler().fit_transform(X)\n",
    "\n",
    "from sklearn.decomposition import PCA\n",
    "pca_2 = PCA(n_components=2)\n",
    "X_pca = pca_2.fit_transform(X)\n",
    "\n",
    "principalDf = pd.DataFrame(data = X_pca, columns = ['principal component 1', 'principal component 2'])\n",
    "\n",
    "principalDf['Fault']=np.array(df['Fault'])"
   ]
  },
  {
   "cell_type": "code",
   "execution_count": 5,
   "metadata": {},
   "outputs": [
    {
     "data": {
      "text/html": [
       "<div>\n",
       "<style scoped>\n",
       "    .dataframe tbody tr th:only-of-type {\n",
       "        vertical-align: middle;\n",
       "    }\n",
       "\n",
       "    .dataframe tbody tr th {\n",
       "        vertical-align: top;\n",
       "    }\n",
       "\n",
       "    .dataframe thead th {\n",
       "        text-align: right;\n",
       "    }\n",
       "</style>\n",
       "<table border=\"1\" class=\"dataframe\">\n",
       "  <thead>\n",
       "    <tr style=\"text-align: right;\">\n",
       "      <th></th>\n",
       "      <th>principal component 1</th>\n",
       "      <th>principal component 2</th>\n",
       "      <th>Fault</th>\n",
       "    </tr>\n",
       "  </thead>\n",
       "  <tbody>\n",
       "    <tr>\n",
       "      <th>0</th>\n",
       "      <td>0.497361</td>\n",
       "      <td>0.161289</td>\n",
       "      <td>Normal</td>\n",
       "    </tr>\n",
       "    <tr>\n",
       "      <th>1</th>\n",
       "      <td>0.512661</td>\n",
       "      <td>-0.003032</td>\n",
       "      <td>Normal</td>\n",
       "    </tr>\n",
       "    <tr>\n",
       "      <th>2</th>\n",
       "      <td>0.532831</td>\n",
       "      <td>0.335156</td>\n",
       "      <td>Normal</td>\n",
       "    </tr>\n",
       "    <tr>\n",
       "      <th>3</th>\n",
       "      <td>0.355761</td>\n",
       "      <td>0.043435</td>\n",
       "      <td>Normal</td>\n",
       "    </tr>\n",
       "    <tr>\n",
       "      <th>4</th>\n",
       "      <td>0.394038</td>\n",
       "      <td>0.022879</td>\n",
       "      <td>Normal</td>\n",
       "    </tr>\n",
       "    <tr>\n",
       "      <th>...</th>\n",
       "      <td>...</td>\n",
       "      <td>...</td>\n",
       "      <td>...</td>\n",
       "    </tr>\n",
       "    <tr>\n",
       "      <th>2273</th>\n",
       "      <td>-0.334603</td>\n",
       "      <td>0.321225</td>\n",
       "      <td>Roller Element</td>\n",
       "    </tr>\n",
       "    <tr>\n",
       "      <th>2274</th>\n",
       "      <td>-0.022924</td>\n",
       "      <td>0.465323</td>\n",
       "      <td>Roller Element</td>\n",
       "    </tr>\n",
       "    <tr>\n",
       "      <th>2275</th>\n",
       "      <td>-0.123683</td>\n",
       "      <td>0.366959</td>\n",
       "      <td>Roller Element</td>\n",
       "    </tr>\n",
       "    <tr>\n",
       "      <th>2276</th>\n",
       "      <td>-0.349879</td>\n",
       "      <td>0.247129</td>\n",
       "      <td>Roller Element</td>\n",
       "    </tr>\n",
       "    <tr>\n",
       "      <th>2277</th>\n",
       "      <td>-0.041042</td>\n",
       "      <td>0.349721</td>\n",
       "      <td>Roller Element</td>\n",
       "    </tr>\n",
       "  </tbody>\n",
       "</table>\n",
       "<p>2278 rows × 3 columns</p>\n",
       "</div>"
      ],
      "text/plain": [
       "      principal component 1  principal component 2           Fault\n",
       "0                  0.497361               0.161289          Normal\n",
       "1                  0.512661              -0.003032          Normal\n",
       "2                  0.532831               0.335156          Normal\n",
       "3                  0.355761               0.043435          Normal\n",
       "4                  0.394038               0.022879          Normal\n",
       "...                     ...                    ...             ...\n",
       "2273              -0.334603               0.321225  Roller Element\n",
       "2274              -0.022924               0.465323  Roller Element\n",
       "2275              -0.123683               0.366959  Roller Element\n",
       "2276              -0.349879               0.247129  Roller Element\n",
       "2277              -0.041042               0.349721  Roller Element\n",
       "\n",
       "[2278 rows x 3 columns]"
      ]
     },
     "execution_count": 5,
     "metadata": {},
     "output_type": "execute_result"
    }
   ],
   "source": [
    "principalDf"
   ]
  },
  {
   "cell_type": "code",
   "execution_count": 6,
   "metadata": {},
   "outputs": [
    {
     "data": {
      "text/plain": [
       "array(['Normal', 'Outer Race', 'Inner Race', 'Roller Element'],\n",
       "      dtype=object)"
      ]
     },
     "execution_count": 6,
     "metadata": {},
     "output_type": "execute_result"
    }
   ],
   "source": [
    "principalDf['Fault'].unique()"
   ]
  },
  {
   "cell_type": "code",
   "execution_count": 7,
   "metadata": {},
   "outputs": [
    {
     "data": {
      "text/plain": [
       "<matplotlib.legend.Legend at 0x209bf16bcb0>"
      ]
     },
     "execution_count": 7,
     "metadata": {},
     "output_type": "execute_result"
    },
    {
     "data": {
      "image/png": "[encoded data removed]",
      "text/plain": [
       "<Figure size 800x800 with 1 Axes>"
      ]
     },
     "metadata": {},
     "output_type": "display_data"
    }
   ],
   "source": [
    "fig = plt.figure(figsize = (8,8))\n",
    "ax = fig.add_subplot(1,1,1) \n",
    "ax.set_xlabel('Principal Component 1', fontsize = 15)\n",
    "ax.set_ylabel('Principal Component 2', fontsize = 15)\n",
    "ax.set_title('2 component PCA', fontsize = 20)\n",
    "fault = ['Normal', 'Outer Race', 'Inner Race', 'Roller Element']\n",
    "colors = ['g', 'r','b','y']\n",
    "for fault, color in zip(fault,colors):\n",
    "    indicesToKeep = principalDf['Fault'] == fault\n",
    "    ax.scatter(principalDf.loc[indicesToKeep, 'principal component 1']\n",
    "               , principalDf.loc[indicesToKeep, 'principal component 2']\n",
    "               , c = color\n",
    "               , s = 50)\n",
    "ax.legend(['Normal', 'Outer Race', 'Inner Race', 'Roller Element'])\n"
   ]
  },
  {
   "cell_type": "code",
   "execution_count": 8,
   "metadata": {},
   "outputs": [
    {
     "data": {
      "text/plain": [
       "array([0.47683195, 0.18028771])"
      ]
     },
     "execution_count": 8,
     "metadata": {},
     "output_type": "execute_result"
    }
   ],
   "source": [
    "sum(pca_2.explained_variance_ratio_)\n",
    "pca_2.explained_variance_ratio_"
   ]
  },
  {
   "cell_type": "markdown",
   "metadata": {},
   "source": [
    "# PCA with THREE Principal Components"
   ]
  },
  {
   "cell_type": "code",
   "execution_count": 9,
   "metadata": {},
   "outputs": [],
   "source": [
    "from mpl_toolkits.mplot3d import Axes3D"
   ]
  },
  {
   "cell_type": "code",
   "execution_count": 10,
   "metadata": {},
   "outputs": [],
   "source": [
    "\n",
    "X = StandardScaler().fit_transform(X)\n",
    "\n",
    "pca_3 = PCA(n_components=3)\n",
    "\n",
    "X_pca = pca_3.fit_transform(X)\n",
    "\n",
    "principalDf = pd.DataFrame(data = X_pca, columns = ['principal component 1', 'principal component 2','principal component 3'])\n",
    "\n",
    "principalDf['Fault']=np.array(df['Fault'])"
   ]
  },
  {
   "cell_type": "code",
   "execution_count": 11,
   "metadata": {},
   "outputs": [
    {
     "data": {
      "text/html": [
       "<div>\n",
       "<style scoped>\n",
       "    .dataframe tbody tr th:only-of-type {\n",
       "        vertical-align: middle;\n",
       "    }\n",
       "\n",
       "    .dataframe tbody tr th {\n",
       "        vertical-align: top;\n",
       "    }\n",
       "\n",
       "    .dataframe thead th {\n",
       "        text-align: right;\n",
       "    }\n",
       "</style>\n",
       "<table border=\"1\" class=\"dataframe\">\n",
       "  <thead>\n",
       "    <tr style=\"text-align: right;\">\n",
       "      <th></th>\n",
       "      <th>principal component 1</th>\n",
       "      <th>principal component 2</th>\n",
       "      <th>principal component 3</th>\n",
       "      <th>Fault</th>\n",
       "    </tr>\n",
       "  </thead>\n",
       "  <tbody>\n",
       "    <tr>\n",
       "      <th>0</th>\n",
       "      <td>0.497361</td>\n",
       "      <td>0.161289</td>\n",
       "      <td>1.545771</td>\n",
       "      <td>Normal</td>\n",
       "    </tr>\n",
       "    <tr>\n",
       "      <th>1</th>\n",
       "      <td>0.512661</td>\n",
       "      <td>-0.003032</td>\n",
       "      <td>1.437239</td>\n",
       "      <td>Normal</td>\n",
       "    </tr>\n",
       "    <tr>\n",
       "      <th>2</th>\n",
       "      <td>0.532831</td>\n",
       "      <td>0.335156</td>\n",
       "      <td>1.659098</td>\n",
       "      <td>Normal</td>\n",
       "    </tr>\n",
       "    <tr>\n",
       "      <th>3</th>\n",
       "      <td>0.355761</td>\n",
       "      <td>0.043435</td>\n",
       "      <td>1.421564</td>\n",
       "      <td>Normal</td>\n",
       "    </tr>\n",
       "    <tr>\n",
       "      <th>4</th>\n",
       "      <td>0.394038</td>\n",
       "      <td>0.022879</td>\n",
       "      <td>1.418665</td>\n",
       "      <td>Normal</td>\n",
       "    </tr>\n",
       "    <tr>\n",
       "      <th>...</th>\n",
       "      <td>...</td>\n",
       "      <td>...</td>\n",
       "      <td>...</td>\n",
       "      <td>...</td>\n",
       "    </tr>\n",
       "    <tr>\n",
       "      <th>2273</th>\n",
       "      <td>-0.334603</td>\n",
       "      <td>0.321225</td>\n",
       "      <td>1.191201</td>\n",
       "      <td>Roller Element</td>\n",
       "    </tr>\n",
       "    <tr>\n",
       "      <th>2274</th>\n",
       "      <td>-0.022924</td>\n",
       "      <td>0.465323</td>\n",
       "      <td>1.374265</td>\n",
       "      <td>Roller Element</td>\n",
       "    </tr>\n",
       "    <tr>\n",
       "      <th>2275</th>\n",
       "      <td>-0.123683</td>\n",
       "      <td>0.366959</td>\n",
       "      <td>1.285745</td>\n",
       "      <td>Roller Element</td>\n",
       "    </tr>\n",
       "    <tr>\n",
       "      <th>2276</th>\n",
       "      <td>-0.349879</td>\n",
       "      <td>0.247129</td>\n",
       "      <td>1.115728</td>\n",
       "      <td>Roller Element</td>\n",
       "    </tr>\n",
       "    <tr>\n",
       "      <th>2277</th>\n",
       "      <td>-0.041042</td>\n",
       "      <td>0.349721</td>\n",
       "      <td>1.334313</td>\n",
       "      <td>Roller Element</td>\n",
       "    </tr>\n",
       "  </tbody>\n",
       "</table>\n",
       "<p>2278 rows × 4 columns</p>\n",
       "</div>"
      ],
      "text/plain": [
       "      principal component 1  principal component 2  principal component 3  \\\n",
       "0                  0.497361               0.161289               1.545771   \n",
       "1                  0.512661              -0.003032               1.437239   \n",
       "2                  0.532831               0.335156               1.659098   \n",
       "3                  0.355761               0.043435               1.421564   \n",
       "4                  0.394038               0.022879               1.418665   \n",
       "...                     ...                    ...                    ...   \n",
       "2273              -0.334603               0.321225               1.191201   \n",
       "2274              -0.022924               0.465323               1.374265   \n",
       "2275              -0.123683               0.366959               1.285745   \n",
       "2276              -0.349879               0.247129               1.115728   \n",
       "2277              -0.041042               0.349721               1.334313   \n",
       "\n",
       "               Fault  \n",
       "0             Normal  \n",
       "1             Normal  \n",
       "2             Normal  \n",
       "3             Normal  \n",
       "4             Normal  \n",
       "...              ...  \n",
       "2273  Roller Element  \n",
       "2274  Roller Element  \n",
       "2275  Roller Element  \n",
       "2276  Roller Element  \n",
       "2277  Roller Element  \n",
       "\n",
       "[2278 rows x 4 columns]"
      ]
     },
     "execution_count": 11,
     "metadata": {},
     "output_type": "execute_result"
    }
   ],
   "source": [
    "principalDf"
   ]
  },
  {
   "cell_type": "code",
   "execution_count": 12,
   "metadata": {},
   "outputs": [
    {
     "name": "stderr",
     "output_type": "stream",
     "text": [
      "\n",
      "[notice] A new release of pip is available: 24.3.1 -> 25.0.1\n",
      "[notice] To update, run: python.exe -m pip install --upgrade pip\n"
     ]
    },
    {
     "name": "stdout",
     "output_type": "stream",
     "text": [
      "Requirement already satisfied: PyQt5 in c:\\users\\tushar bailwal\\appdata\\local\\programs\\python\\python313\\lib\\site-packages (5.15.11)\n",
      "Requirement already satisfied: PyQt5-sip<13,>=12.15 in c:\\users\\tushar bailwal\\appdata\\local\\programs\\python\\python313\\lib\\site-packages (from PyQt5) (12.17.0)\n",
      "Requirement already satisfied: PyQt5-Qt5<5.16.0,>=5.15.2 in c:\\users\\tushar bailwal\\appdata\\local\\programs\\python\\python313\\lib\\site-packages (from PyQt5) (5.15.2)\n",
      "Note: you may need to restart the kernel to use updated packages.\n"
     ]
    }
   ],
   "source": [
    "%pip install PyQt5\n",
    "%matplotlib qt\n",
    "\n",
    "fig = plt.figure(figsize=(10,14))\n",
    "  \n",
    "# syntax for 3-D projection\n",
    "ax = plt.axes(projection='3d')\n",
    "  \n",
    "# defining all 3 axes\n",
    "fault = ['Normal', 'Outer Race', 'Inner Race', 'Roller Element']\n",
    "colors = ['g', 'r','b','y']\n",
    "for fault, color in zip(fault,colors):\n",
    "    indicesToKeep = principalDf['Fault'] == fault\n",
    "    ax.scatter3D(principalDf.loc[indicesToKeep, 'principal component 1']\n",
    "               , principalDf.loc[indicesToKeep, 'principal component 2']\n",
    "               , principalDf.loc[indicesToKeep, 'principal component 3']\n",
    "               , c = color\n",
    "               , s = 50)\n",
    "ax.legend(['Normal', 'Outer Race', 'Inner Race', 'Roller Element'])\n",
    "\n",
    "  \n",
    "# plotting\n",
    "ax.set_xlabel('Principal Component 1', fontsize = 15)\n",
    "ax.set_ylabel('Principal Component 2', fontsize = 15)\n",
    "ax.set_zlabel('Principal Component 3', fontsize = 15)\n",
    "\n",
    "ax.set_title('3D PCA')\n",
    "ax.view_init(45,90)\n",
    "\n",
    "plt.show()"
   ]
  },
  {
   "cell_type": "code",
   "execution_count": 14,
   "metadata": {},
   "outputs": [
    {
     "data": {
      "text/plain": [
       "np.float64(0.8029818333391043)"
      ]
     },
     "execution_count": 14,
     "metadata": {},
     "output_type": "execute_result"
    }
   ],
   "source": [
    "np.sum(pca_3.explained_variance_ratio_)\n",
    "#pca.explained_variance_ratio_"
   ]
  }
 ],
 "metadata": {
  "kernelspec": {
   "display_name": "Python 3",
   "language": "python",
   "name": "python3"
  },
  "language_info": {
   "codemirror_mode": {
    "name": "ipython",
    "version": 3
   },
   "file_extension": ".py",
   "mimetype": "text/x-python",
   "name": "python",
   "nbconvert_exporter": "python",
   "pygments_lexer": "ipython3",
   "version": "3.13.1"
  },
  "varInspector": {
   "cols": {
    "lenName": 16,
    "lenType": 16,
    "lenVar": 40
   },
   "kernels_config": {
    "python": {
     "delete_cmd_postfix": "",
     "delete_cmd_prefix": "del ",
     "library": "var_list.py",
     "varRefreshCmd": "print(var_dic_list())"
    },
    "r": {
     "delete_cmd_postfix": ") ",
     "delete_cmd_prefix": "rm(",
     "library": "var_list.r",
     "varRefreshCmd": "cat(var_dic_list()) "
    }
   },
   "types_to_exclude": [
    "module",
    "function",
    "builtin_function_or_method",
    "instance",
    "_Feature"
   ],
   "window_display": false
  }
 },
 "nbformat": 4,
 "nbformat_minor": 4
}
