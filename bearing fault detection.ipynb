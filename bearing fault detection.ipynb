{
 "cells": [
  {
   "cell_type": "code",
   "execution_count": null,
   "metadata": {},
   "outputs": [],
   "source": [
    "import matplotlib.pyplot as plt\n",
    "import scipy.io\n",
    "import numpy as np\n",
    "import pandas as pd\n",
    "import os"
   ]
  },
  {
   "cell_type": "markdown",
   "metadata": {},
   "source": [
    "# Test-1\n",
    "\n",
    "\n",
    "- At the end of the test-to-failure experiment, **inner race defect** occurred in **bearing 3** and **roller element** defect in **bearing 4**.    "
   ]
  },
  {
   "cell_type": "code",
   "execution_count": null,
   "metadata": {},
   "outputs": [],
   "source": [
    "test_no=1\n",
    "\n",
    "df1 = pd.read_csv(\"Time_feature_matrix_Bearing_1_Test_{}.csv\".format(test_no),index_col='Unnamed: 0')\n",
    "df2 = pd.read_csv(\"Time_feature_matrix_Bearing_2_Test_{}.csv\".format(test_no),index_col='Unnamed: 0')\n",
    "df3 = pd.read_csv(\"Time_feature_matrix_Bearing_3_Test_{}.csv\".format(test_no),index_col='Unnamed: 0')\n",
    "df4 = pd.read_csv(\"Time_feature_matrix_Bearing_4_Test_{}.csv\".format(test_no),index_col='Unnamed: 0')\n",
    "\n",
    "df1.index = pd.to_datetime(df1.index)"
   ]
  },
  {
   "cell_type": "code",
   "execution_count": null,
   "metadata": {},
   "outputs": [],
   "source": [
    "for i,col in enumerate(df1.columns):  \n",
    "    \n",
    "        plt.figure(figsize=(10, 5))\n",
    "        plt.plot(df1.index,df1[col])\n",
    "        plt.plot(df1.index,df2[col])\n",
    "        plt.plot(df1.index,df3[col])\n",
    "        plt.plot(df1.index,df4[col])\n",
    "\n",
    "        plt.legend(['bearing-1','bearing-2','bearing-3','bearing-4'])\n",
    "\n",
    "        plt.xlabel(\"Date-Time\")\n",
    "        plt.ylabel(col)\n",
    "        plt.title(col)\n",
    "        plt.show()"
   ]
  },
  {
   "cell_type": "markdown",
   "metadata": {},
   "source": [
    "## Saving Inner race fault"
   ]
  },
  {
   "cell_type": "code",
   "execution_count": null,
   "metadata": {},
   "outputs": [],
   "source": [
    "df_irf=df3['2003-11-21 00:32':'2003-11-24 18:22']\n",
    "fault=[]\n",
    "for i in range (0,len(df_irf)):\n",
    "    fault.append('Inner Race')\n",
    "\n",
    "df_irf['Fault']=fault\n",
    "df_irf"
   ]
  },
  {
   "cell_type": "code",
   "execution_count": null,
   "metadata": {},
   "outputs": [],
   "source": [
    "df_irf.to_csv('inner_race_fault.csv',index=False)"
   ]
  },
  {
   "cell_type": "markdown",
   "metadata": {},
   "source": [
    "## Saving Roller Element fault"
   ]
  },
  {
   "cell_type": "code",
   "execution_count": null,
   "metadata": {},
   "outputs": [],
   "source": [
    "df_ref=df4['2003-11-21 00:32:00':'2003-11-24 18:22:00']\n",
    "fault=[]\n",
    "for i in range (0,len(df_ref)):\n",
    "    fault.append('Roller Element')\n",
    "\n",
    "df_ref['Fault']=fault\n",
    "df_ref"
   ]
  },
  {
   "cell_type": "code",
   "execution_count": null,
   "metadata": {},
   "outputs": [],
   "source": [
    "df_ref.to_csv('roller_element_fault.csv',index=False)"
   ]
  },
  {
   "cell_type": "markdown",
   "metadata": {},
   "source": [
    "# Test 2 \n",
    "\n",
    "\n",
    "- At the end of the test-to-failure experiment, outer race failure occurred in bearing 1.\n"
   ]
  },
  {
   "cell_type": "code",
   "execution_count": null,
   "metadata": {},
   "outputs": [],
   "source": [
    "test_no=2\n",
    "\n",
    "df1 = pd.read_csv(\"Time_feature_matrix_Bearing_1_Test_{}.csv\".format(test_no),index_col='Unnamed: 0')\n",
    "df2 = pd.read_csv(\"Time_feature_matrix_Bearing_2_Test_{}.csv\".format(test_no),index_col='Unnamed: 0')\n",
    "df3 = pd.read_csv(\"Time_feature_matrix_Bearing_3_Test_{}.csv\".format(test_no),index_col='Unnamed: 0')\n",
    "df4 = pd.read_csv(\"Time_feature_matrix_Bearing_4_Test_{}.csv\".format(test_no),index_col='Unnamed: 0')\n",
    "\n",
    "df1.index = pd.to_datetime(df1.index)\n",
    "\n",
    "for i,col in enumerate(df1.columns):  \n",
    "    \n",
    "        plt.figure(figsize=(10, 5))\n",
    "        plt.plot(df1.index,df1[col])\n",
    "        plt.plot(df1.index,df2[col])\n",
    "        plt.plot(df1.index,df3[col])\n",
    "        plt.plot(df1.index,df4[col])\n",
    "\n",
    "        plt.legend(['bearing-1','bearing-2','bearing-3','bearing-4'])\n",
    "\n",
    "        plt.xlabel(\"Date-Time\")\n",
    "        plt.ylabel(col)\n",
    "        plt.title(col)\n",
    "        plt.show()"
   ]
  },
  {
   "cell_type": "markdown",
   "metadata": {},
   "source": [
    "## Saving Outer Race Fault"
   ]
  },
  {
   "cell_type": "code",
   "execution_count": null,
   "metadata": {},
   "outputs": [],
   "source": [
    "df_orf=df1['2004-02-17 12:32:00':'2004-02-19 00:42:00']\n",
    "fault=[]\n",
    "for i in range (0,len(df_orf)):\n",
    "    fault.append('Outer Race')\n",
    "\n",
    "df_orf['Fault']=fault\n",
    "\n",
    "df_orf.to_csv('outer_race_fault_test_2.csv',index=False)  \n",
    "df_orf"
   ]
  },
  {
   "cell_type": "markdown",
   "metadata": {},
   "source": [
    "# Test 3\n",
    "\n",
    "- At the end of the test-to-failure experiment, outer race failure occurred in bearing 3."
   ]
  },
  {
   "cell_type": "code",
   "execution_count": null,
   "metadata": {},
   "outputs": [],
   "source": [
    "test_no=3\n",
    "\n",
    "df1 = pd.read_csv(\"Time_feature_matrix_Bearing_1_Test_{}.csv\".format(test_no),index_col='Unnamed: 0')\n",
    "df2 = pd.read_csv(\"Time_feature_matrix_Bearing_2_Test_{}.csv\".format(test_no),index_col='Unnamed: 0')\n",
    "df3 = pd.read_csv(\"Time_feature_matrix_Bearing_3_Test_{}.csv\".format(test_no),index_col='Unnamed: 0')\n",
    "df4 = pd.read_csv(\"Time_feature_matrix_Bearing_4_Test_{}.csv\".format(test_no),index_col='Unnamed: 0')\n",
    "\n",
    "df1.index = pd.to_datetime(df1.index)\n",
    "\n",
    "for i,col in enumerate(df1.columns):  \n",
    "    \n",
    "        plt.figure(figsize=(10, 5))\n",
    "        plt.plot(df1.index,df1[col])\n",
    "        plt.plot(df1.index,df2[col])\n",
    "        plt.plot(df1.index,df3[col])\n",
    "        plt.plot(df1.index,df4[col])\n",
    "\n",
    "        plt.legend(['bearing-1','bearing-2','bearing-3','bearing-4'])\n",
    "\n",
    "        plt.xlabel(\"Date-Time\")\n",
    "        plt.ylabel(col)\n",
    "        plt.title(col)\n",
    "        plt.show()"
   ]
  },
  {
   "cell_type": "markdown",
   "metadata": {},
   "source": [
    "## Saving Outer Race Fault"
   ]
  },
  {
   "cell_type": "code",
   "execution_count": null,
   "metadata": {},
   "outputs": [],
   "source": [
    "df3"
   ]
  },
  {
   "cell_type": "code",
   "execution_count": null,
   "metadata": {},
   "outputs": [],
   "source": [
    "df_orf=df3['2004-04-15 12:32:00':'2004-04-18 00:42:00']\n",
    "fault=[]\n",
    "for i in range (0,len(df_orf)):\n",
    "    fault.append('Outer Race')\n",
    "\n",
    "df_orf['Fault']=fault\n",
    "\n",
    "df_orf.to_csv('outer_race_fault_test_3.csv',index=False)  \n",
    "df_orf"
   ]
  },
  {
   "cell_type": "markdown",
   "metadata": {},
   "source": [
    "# Collect The Normal Data From all the bearings"
   ]
  },
  {
   "cell_type": "code",
   "execution_count": null,
   "metadata": {},
   "outputs": [],
   "source": [
    "import pandas as pd\n",
    "\n",
    "Test=[1,2,3]\n",
    "Bearing_No=[1,2,3,4]\n",
    "\n",
    "df_normal_bearing = pd.DataFrame()\n",
    "\n",
    "for test_no in Test:\n",
    "    for bearing_no in Bearing_No:\n",
    "        temp = pd.read_csv(\"Time_feature_matrix_Bearing_{}_Test_{}.csv\".format(bearing_no,test_no),index_col='Unnamed: 0')\n",
    "\n",
    "        starting = int(np.floor(len(temp)*.21))\n",
    "        ending = int(np.floor(len(temp)*.23))\n",
    "\n",
    "        start_time = temp.index[starting]\n",
    "        end_time = temp.index[ending]\n",
    "\n",
    "        temp = temp[start_time:end_time]\n",
    "        \n",
    "        df_normal_bearing = pd.concat([df_normal_bearing, temp])\n",
    "\n",
    "fault=[]\n",
    "for i in range (0,len(df_normal_bearing)):\n",
    "    fault.append('Normal')\n",
    "\n",
    "df_normal_bearing['Fault']=fault\n",
    "\n",
    "df_normal_bearing.to_csv('Normal_Bearing.csv',index=False)"
   ]
  },
  {
   "cell_type": "code",
   "execution_count": null,
   "metadata": {},
   "outputs": [],
   "source": [
    "df_normal_bearing"
   ]
  }
 ],
 "metadata": {
  "kernelspec": {
   "display_name": "Python 3",
   "language": "python",
   "name": "python3"
  },
  "language_info": {
   "codemirror_mode": {
    "name": "ipython",
    "version": 3
   },
   "file_extension": ".py",
   "mimetype": "text/x-python",
   "name": "python",
   "nbconvert_exporter": "python",
   "pygments_lexer": "ipython3",
   "version": "3.13.1"
  }
 },
 "nbformat": 4,
 "nbformat_minor": 2
}
